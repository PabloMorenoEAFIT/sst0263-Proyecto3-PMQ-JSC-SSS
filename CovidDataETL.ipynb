{
 "cells": [
  {
   "cell_type": "code",
   "execution_count": 5,
   "id": "4d766d7c",
   "metadata": {},
   "outputs": [
    {
     "data": {
      "application/vnd.jupyter.widget-view+json": {
       "model_id": "",
       "version_major": 2,
       "version_minor": 0
      },
      "text/plain": [
       "FloatProgress(value=0.0, bar_style='info', description='Progress:', layout=Layout(height='25px', width='50%'),…"
      ]
     },
     "metadata": {},
     "output_type": "display_data"
    }
   ],
   "source": [
    "from pyspark.sql import SparkSession"
   ]
  },
  {
   "cell_type": "code",
   "execution_count": null,
   "id": "2dbeb82d",
   "metadata": {},
   "outputs": [
    {
     "data": {
      "application/vnd.jupyter.widget-view+json": {
       "model_id": "",
       "version_major": 2,
       "version_minor": 0
      },
      "text/plain": [
       "FloatProgress(value=0.0, bar_style='info', description='Progress:', layout=Layout(height='25px', width='50%'),…"
      ]
     },
     "metadata": {},
     "output_type": "display_data"
    }
   ],
   "source": [
    "spark = SparkSession.builder.appName(\"CovidDataETL\").getOrCreate()"
   ]
  },
  {
   "cell_type": "code",
   "execution_count": null,
   "id": "ba513a49",
   "metadata": {},
   "outputs": [
    {
     "data": {
      "application/vnd.jupyter.widget-view+json": {
       "model_id": "",
       "version_major": 2,
       "version_minor": 0
      },
      "text/plain": [
       "FloatProgress(value=0.0, bar_style='info', description='Progress:', layout=Layout(height='25px', width='50%'),…"
      ]
     },
     "metadata": {},
     "output_type": "display_data"
    }
   ],
   "source": [
    "data_raw = spark.read.option(\"multiline\", \"true\").json(\"s3a://bucket-rawdata-p3-telematica/covid_data.json\")"
   ]
  },
  {
   "cell_type": "code",
   "execution_count": null,
   "id": "12f1fdf2",
   "metadata": {},
   "outputs": [
    {
     "data": {
      "application/vnd.jupyter.widget-view+json": {
       "model_id": "",
       "version_major": 2,
       "version_minor": 0
      },
      "text/plain": [
       "FloatProgress(value=0.0, bar_style='info', description='Progress:', layout=Layout(height='25px', width='50%'),…"
      ]
     },
     "metadata": {},
     "output_type": "display_data"
    }
   ],
   "source": [
    "# Mostrar los primeros registros para confirmar la estructura inferida\n",
    "data_raw.show(10)"
   ]
  },
  {
   "cell_type": "code",
   "execution_count": null,
   "id": "8432da11",
   "metadata": {},
   "outputs": [
    {
     "data": {
      "application/vnd.jupyter.widget-view+json": {
       "model_id": "",
       "version_major": 2,
       "version_minor": 0
      },
      "text/plain": [
       "FloatProgress(value=0.0, bar_style='info', description='Progress:', layout=Layout(height='25px', width='50%'),…"
      ]
     },
     "metadata": {},
     "output_type": "display_data"
    }
   ],
   "source": [
    "# Eliminar filas que estén completamente vacías\n",
    "data_cleaned = data_raw.na.drop(how='all')"
   ]
  },
  {
   "cell_type": "code",
   "execution_count": null,
   "id": "1d8f6ef3",
   "metadata": {},
   "outputs": [
    {
     "data": {
      "application/vnd.jupyter.widget-view+json": {
       "model_id": "",
       "version_major": 2,
       "version_minor": 0
      },
      "text/plain": [
       "FloatProgress(value=0.0, bar_style='info', description='Progress:', layout=Layout(height='25px', width='50%'),…"
      ]
     },
     "metadata": {},
     "output_type": "display_data"
    }
   ],
   "source": [
    "# Aplicar otros filtros necesarios, ej, casos confirmados si 'estado' existe\n",
    "if 'estado' in data_cleaned.columns:\n",
    "    data_filtered = data_cleaned.filter(data_cleaned['estado'].isin(['Leve', 'Moderado', 'Grave']))\n",
    "else:\n",
    "    data_filtered = data_cleaned"
   ]
  },
  {
   "cell_type": "code",
   "execution_count": null,
   "id": "bbf81519",
   "metadata": {},
   "outputs": [
    {
     "data": {
      "application/vnd.jupyter.widget-view+json": {
       "model_id": "",
       "version_major": 2,
       "version_minor": 0
      },
      "text/plain": [
       "FloatProgress(value=0.0, bar_style='info', description='Progress:', layout=Layout(height='25px', width='50%'),…"
      ]
     },
     "metadata": {},
     "output_type": "display_data"
    },
    {
     "name": "stdout",
     "output_type": "stream",
     "text": [
      "DataFrame[_corrupt_record: string]"
     ]
    }
   ],
   "source": [
    "# Cachear los datos limpios antes de escribir\n",
    "data_filtered.cache()"
   ]
  },
  {
   "cell_type": "code",
   "execution_count": null,
   "id": "8024c4ca",
   "metadata": {
    "vscode": {
     "languageId": "plaintext"
    }
   },
   "outputs": [],
   "source": [
    "# Guardar los datos procesados en S3 zona Trusted\n",
    "data_filtered.write.mode('overwrite').parquet(\"s3a://bucket-trusteddata-p3-telematica/cleaned_covid_data\")"
   ]
  },
  {
   "cell_type": "code",
   "execution_count": null,
   "id": "c2b519a8",
   "metadata": {
    "vscode": {
     "languageId": "plaintext"
    }
   },
   "outputs": [],
   "source": [
    "# Leer los datos procesados desde el bucket Trusted\n",
    "data_trusted = spark.read.parquet(\"s3a://bucket-trusteddata-p3-telematica/cleaned_covid_data\")"
   ]
  },
  {
   "cell_type": "code",
   "execution_count": null,
   "id": "83a81738",
   "metadata": {
    "vscode": {
     "languageId": "plaintext"
    }
   },
   "outputs": [],
   "source": [
    "# Guardar los datos procesados en S3 zona Refined en formato CSV\n",
    "data_trusted.write.mode('overwrite').option(\"header\", \"true\").csv(\"s3a://bucket-refineddata-p3-telematica/refined_covid_data_csv\")"
   ]
  },
  {
   "cell_type": "code",
   "execution_count": null,
   "id": "02b19f01",
   "metadata": {
    "vscode": {
     "languageId": "plaintext"
    }
   },
   "outputs": [],
   "source": [
    "# Leer los datos procesados desde el bucket Refined para confirmar\n",
    "data_refined = spark.read.option(\"header\", \"true\").csv(\"s3a://bucket-refineddata-p3-telematica/refined_covid_data_csv\")"
   ]
  },
  {
   "cell_type": "code",
   "execution_count": null,
   "id": "53dc99f4",
   "metadata": {
    "vscode": {
     "languageId": "plaintext"
    }
   },
   "outputs": [],
   "source": [
    "# Mostrar una muestra de los datos procesados para confirmar que están bien\n",
    "data_refined.show(10)"
   ]
  },
  {
   "cell_type": "code",
   "execution_count": null,
   "id": "d31b88b2",
   "metadata": {
    "vscode": {
     "languageId": "plaintext"
    }
   },
   "outputs": [],
   "source": [
    "# Contar la cantidad de registros en cada etapa\n",
    "print(f\"Cantidad de registros sin filtrar: {data_raw.count()}\")\n",
    "print(f\"Cantidad de registros después de eliminar filas completamente nulas: {data_cleaned.count()}\")\n",
    "print(f\"Cantidad de registros en el CSV refinado: {data_refined.count()}\")"
   ]
  }
 ],
 "metadata": {
  "kernelspec": {
   "display_name": "PySpark",
   "language": "python",
   "name": "pysparkkernel"
  },
  "language_info": {
   "codemirror_mode": {
    "name": "python",
    "version": 3
   },
   "file_extension": ".py",
   "mimetype": "text/x-python",
   "name": "pyspark",
   "pygments_lexer": "python3"
  }
 },
 "nbformat": 4,
 "nbformat_minor": 5
}
