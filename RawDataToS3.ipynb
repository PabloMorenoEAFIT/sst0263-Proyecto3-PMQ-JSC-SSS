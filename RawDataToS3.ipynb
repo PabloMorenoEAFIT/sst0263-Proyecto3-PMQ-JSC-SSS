{
 "cells": [
  {
   "cell_type": "code",
   "execution_count": 2,
   "id": "bbbf060e",
   "metadata": {},
   "outputs": [],
   "source": [
    "import requests\n",
    "import boto3\n",
    "\n",
    "# Descargar archivo desde la API y guardarlo en S3\n",
    "def download_covid_data_to_s3():\n",
    "    url = 'https://www.datos.gov.co/resource/gt2j-8ykr.json'\n",
    "    response = requests.get(url)\n",
    "    s3 = boto3.client('s3')\n",
    "    s3.put_object(Bucket='bucket-rawdata-p3-telematica', Key='covid_data.json', Body=response.content)\n",
    "\n",
    "download_covid_data_to_s3()\n"
   ]
  },
  {
   "cell_type": "code",
   "execution_count": 2,
   "id": "fd7f7681",
   "metadata": {},
   "outputs": [
    {
     "name": "stdout",
     "output_type": "stream",
     "text": [
      "Requirement already satisfied: boto3 in /opt/mamba/lib/python3.9/site-packages (1.35.16)\n",
      "Collecting botocore<1.36.0,>=1.35.16 (from boto3)\n",
      "  Downloading botocore-1.35.68-py3-none-any.whl.metadata (5.7 kB)\n",
      "Requirement already satisfied: jmespath<2.0.0,>=0.7.1 in /opt/mamba/lib/python3.9/site-packages (from boto3) (0.10.0)\n",
      "Requirement already satisfied: s3transfer<0.11.0,>=0.10.0 in /opt/mamba/lib/python3.9/site-packages (from boto3) (0.10.2)\n",
      "Requirement already satisfied: python-dateutil<3.0.0,>=2.1 in /opt/mamba/lib/python3.9/site-packages (from botocore<1.36.0,>=1.35.16->boto3) (2.9.0)\n",
      "Requirement already satisfied: urllib3<1.27,>=1.25.4 in /opt/mamba/lib/python3.9/site-packages (from botocore<1.36.0,>=1.35.16->boto3) (1.26.16)\n",
      "Requirement already satisfied: six>=1.5 in /opt/mamba/lib/python3.9/site-packages (from python-dateutil<3.0.0,>=2.1->botocore<1.36.0,>=1.35.16->boto3) (1.16.0)\n",
      "Downloading botocore-1.35.68-py3-none-any.whl (13.0 MB)\n",
      "\u001b[2K   \u001b[90m━━━━━━━━━━━━━━━━━━━━━━━━━━━━━━━━━━━━━━━━\u001b[0m \u001b[32m13.0/13.0 MB\u001b[0m \u001b[31m79.4 MB/s\u001b[0m eta \u001b[36m0:00:00\u001b[0m\n",
      "\u001b[?25hInstalling collected packages: botocore\n",
      "  Attempting uninstall: botocore\n",
      "    Found existing installation: botocore 1.20.106\n",
      "    Uninstalling botocore-1.20.106:\n",
      "      Successfully uninstalled botocore-1.20.106\n",
      "\u001b[31mERROR: pip's dependency resolver does not currently take into account all the packages that are installed. This behaviour is the source of the following dependency conflicts.\n",
      "aiobotocore 2.15.0 requires botocore<1.35.17,>=1.35.16, but you have botocore 1.35.68 which is incompatible.\u001b[0m\u001b[31m\n",
      "\u001b[0mSuccessfully installed botocore-1.35.68\n",
      "Note: you may need to restart the kernel to use updated packages.\n"
     ]
    }
   ],
   "source": [
    "pip install boto3"
   ]
  }
 ],
 "metadata": {
  "kernelspec": {
   "display_name": "Python 3",
   "language": "python",
   "name": "python3"
  },
  "language_info": {
   "codemirror_mode": {
    "name": "ipython",
    "version": 3
   },
   "file_extension": ".py",
   "mimetype": "text/x-python",
   "name": "python",
   "nbconvert_exporter": "python",
   "pygments_lexer": "ipython3",
   "version": "3.9.19"
  }
 },
 "nbformat": 4,
 "nbformat_minor": 5
}
